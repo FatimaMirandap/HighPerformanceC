{
  "nbformat": 4,
  "nbformat_minor": 0,
  "metadata": {
    "colab": {
      "provenance": []
    },
    "kernelspec": {
      "name": "python3",
      "display_name": "Python 3"
    },
    "language_info": {
      "name": "python"
    }
  },
  "cells": [
    {
      "cell_type": "markdown",
      "source": [
        "# **CA4. Multiprocessing:**\n",
        "\n",
        "Team members:\n",
        "* Fatima Miranda Pestaña\n",
        "* Eduardo Mendoza Vargas\n",
        "* Cynthia Vidal Ovando\n",
        "\n",
        "Data 7B"
      ],
      "metadata": {
        "id": "o_54x1P6RmCg"
      }
    },
    {
      "cell_type": "code",
      "source": [
        "import random\n",
        "import multiprocessing\n",
        "import timeit\n",
        "import random\n",
        "import time\n",
        "import cProfile\n",
        "from multiprocessing import Pool\n",
        "import matplotlib.pyplot as plt"
      ],
      "metadata": {
        "id": "yG18cgDgjAB6"
      },
      "execution_count": null,
      "outputs": []
    },
    {
      "cell_type": "markdown",
      "source": [
        "## First Function: pi_serial(samples)"
      ],
      "metadata": {
        "id": "x3Itq6P-SIfP"
      }
    },
    {
      "cell_type": "markdown",
      "source": [
        "The Monte Carlo approximation method to calculate the value of Pi. We generate random points inside a square with side length 2, centered at the origin. For each random point generated, we check whether the point falls within the inscribed circle of radius 1. If the point falls within the circle (i.e., if the distance from the origin to the point is less than or equal to 1), we count it as a \"hit\". After generating a specified number of random points (determined by the parameter 'samples'), we calculate the ratio of hits to total points. Since the area of the inscribed circle is π and the area of the square is 4, the ratio of hits to total points can be used to approximate the value of π. The more points we generate, the closer the approximation to the actual value of π."
      ],
      "metadata": {
        "id": "6nsrNlSPVvL-"
      }
    },
    {
      "cell_type": "code",
      "source": [
        "def pi_serial(samples):\n",
        "    hits = 0\n",
        "    for _ in range(samples):\n",
        "        x, y = random.uniform(-1, 1), random.uniform(-1, 1)\n",
        "        if x**2 + y**2 <= 1:\n",
        "            hits += 1\n",
        "    return (4.0 * hits) / samples"
      ],
      "metadata": {
        "id": "vGma2IZARlso"
      },
      "execution_count": null,
      "outputs": []
    },
    {
      "cell_type": "code",
      "source": [
        "samples = 10000 # we choose 10,000 as is the limmit for colab :)\n",
        "start_time = time.time()\n",
        "pi_estimate = pi_serial(samples)\n",
        "print(f\"Serial Pi estimation: {pi_estimate}\")\n",
        "print(f\"Time taken: {time.time() - start_time} seconds\")"
      ],
      "metadata": {
        "id": "QCvqX_tHRr_k",
        "colab": {
          "base_uri": "https://localhost:8080/"
        },
        "outputId": "41e3dd8b-4ab2-434f-e491-f7e366970b1f"
      },
      "execution_count": null,
      "outputs": [
        {
          "output_type": "stream",
          "name": "stdout",
          "text": [
            "Serial Pi estimation: 3.1352\n",
            "Time taken: 0.029298782348632812 seconds\n"
          ]
        }
      ]
    },
    {
      "cell_type": "markdown",
      "source": [
        "## Second Function: pi_apply_async(samples)"
      ],
      "metadata": {
        "id": "JSJbZ8BOSKbp"
      }
    },
    {
      "cell_type": "markdown",
      "source": [
        "Multiprocessing allows multiple tasks to be executed simultaneously, taking advantage of the multiple CPU cores available in a system. In the context of the Monte Carlo approach to estimating Pi, multiprocessing can be used to generate and process multiple random point samples in parallel, which significantly speeds up the computation.\n",
        "\n",
        "We use the Pool() class of the multiprocessing module to create a set of processes. Each process is responsible for generating a portion of the random point samples and counting how many of those points fall within the circle. By dividing the work among several processes, we can process the samples concurrently, which reduces the overall execution time compared to a sequential approach."
      ],
      "metadata": {
        "id": "24MyB9Q2V38i"
      }
    },
    {
      "cell_type": "code",
      "source": [
        "def sample():\n",
        "    x, y = random.uniform(-1, 1), random.uniform(-1, 1)\n",
        "    return 1 if x**2 + y**2 <= 1 else 0"
      ],
      "metadata": {
        "id": "biZefLF_SH2n"
      },
      "execution_count": null,
      "outputs": []
    },
    {
      "cell_type": "code",
      "source": [
        "def pi_apply_async(samples):\n",
        "    with Pool() as pool:\n",
        "        results_async = [pool.apply_async(sample) for _ in range(samples)]\n",
        "        hits = sum(r.get() for r in results_async)\n",
        "    return (4.0 * hits) / samples"
      ],
      "metadata": {
        "id": "BSD4mkgQSPc7"
      },
      "execution_count": null,
      "outputs": []
    },
    {
      "cell_type": "code",
      "source": [
        "if __name__ == '__main__':\n",
        "    pi_estimate = pi_apply_async(1000)  # Start with a small number for testing\n",
        "    print(f\"Estimated Pi value: {pi_estimate}\")"
      ],
      "metadata": {
        "colab": {
          "base_uri": "https://localhost:8080/"
        },
        "id": "0x2gOdfbSRdX",
        "outputId": "95c48f22-424c-46d9-f74f-4b982a29d22a"
      },
      "execution_count": null,
      "outputs": [
        {
          "output_type": "stream",
          "name": "stdout",
          "text": [
            "Estimated Pi value: 3.132\n"
          ]
        }
      ]
    },
    {
      "cell_type": "code",
      "source": [
        "if __name__ == '__main__':\n",
        "    start_time = time.time()\n",
        "    pi_estimate = pi_apply_async(1000)\n",
        "    end_time = time.time()\n",
        "    print(f\"Estimated Pi value: {pi_estimate}\")\n",
        "    print(f\"Time taken: {end_time - start_time} seconds\")"
      ],
      "metadata": {
        "colab": {
          "base_uri": "https://localhost:8080/"
        },
        "id": "fvQabWn7SS6M",
        "outputId": "4d70c084-1e2f-4da8-e6ab-a898bfb13a43"
      },
      "execution_count": null,
      "outputs": [
        {
          "output_type": "stream",
          "name": "stdout",
          "text": [
            "Estimated Pi value: 3.152\n",
            "Time taken: 0.16382908821105957 seconds\n"
          ]
        }
      ]
    },
    {
      "cell_type": "markdown",
      "source": [
        "## Third function: pi_apply_async_chunked(samples, n_tasks)"
      ],
      "metadata": {
        "id": "xGTkc8ihShiz"
      }
    },
    {
      "cell_type": "markdown",
      "source": [
        "By dividing the work into larger blocks and using multiple processes to process these blocks in parallel, we can better utilize the processing power of the system and reduce the overall execution time of the computation. This is especially useful when the total number of samples is very large, as it allows us to efficiently distribute the work across multiple CPU cores.\n",
        "\n",
        "We use multiprocessing to speed up the calculation of Pi estimation using the Monte Carlo approach, we divide the job into larger blocks. We calculate the size of each block (chunk_size) by dividing the total number of samples by the number of tasks (n_tasks). Then, we create a set of processes using Pool() and assign each process to execute the sample_multiple function with a block of samples.\n",
        "\n",
        "Each process spawns a sample block and counts the \"hits\" within the circle independently. Once all processes have completed their task, we sum the total hits of all blocks and calculate the Pi estimate using the formula (4.0 * hits) / samples."
      ],
      "metadata": {
        "id": "3VbGnGGxWAeF"
      }
    },
    {
      "cell_type": "code",
      "source": [
        "def sample_multiple(samples_partial):\n",
        "    return sum(sample() for _ in range(samples_partial))"
      ],
      "metadata": {
        "id": "pkS_W3AASU4H"
      },
      "execution_count": null,
      "outputs": []
    },
    {
      "cell_type": "code",
      "source": [
        "def pi_apply_async_chunked(samples, n_tasks=10):\n",
        "    chunk_size = samples // n_tasks\n",
        "    with Pool() as pool:\n",
        "        results_async = [pool.apply_async(sample_multiple, (chunk_size,)) for _ in range(n_tasks)]\n",
        "        hits = sum(r.get() for r in results_async)\n",
        "    return (4.0 * hits) / samples"
      ],
      "metadata": {
        "id": "U0Wf2dkpSon2"
      },
      "execution_count": null,
      "outputs": []
    },
    {
      "cell_type": "code",
      "source": [
        "def pi_apply_async_chunked(samples, n_tasks=10):\n",
        "    chunk_size = samples // n_tasks\n",
        "    with Pool() as pool:\n",
        "        results_async = [pool.apply_async(sample_multiple, (chunk_size,)) for _ in range(n_tasks)]\n",
        "        hits = sum(r.get() for r in results_async)\n",
        "    return (4.0 * hits) / samples"
      ],
      "metadata": {
        "id": "YuW5z6fPSsKQ"
      },
      "execution_count": null,
      "outputs": []
    },
    {
      "cell_type": "code",
      "source": [
        "if __name__ == '__main__':\n",
        "    pi_estimate = pi_apply_async_chunked(1000)  # Use a small number for testing\n",
        "    print(f\"Estimated Pi value: {pi_estimate}\")"
      ],
      "metadata": {
        "colab": {
          "base_uri": "https://localhost:8080/"
        },
        "id": "NxKeUEasSuEZ",
        "outputId": "5e3a83b2-a784-47b5-e2cc-e88fb938b1c9"
      },
      "execution_count": null,
      "outputs": [
        {
          "output_type": "stream",
          "name": "stdout",
          "text": [
            "Estimated Pi value: 3.2\n"
          ]
        }
      ]
    },
    {
      "cell_type": "code",
      "source": [
        "if __name__ == '__main__':\n",
        "    start_time = time.time()\n",
        "    pi_estimate = pi_apply_async_chunked(1000, n_tasks=10)\n",
        "    end_time = time.time()\n",
        "    print(f\"Estimated Pi value: {pi_estimate}\")"
      ],
      "metadata": {
        "colab": {
          "base_uri": "https://localhost:8080/"
        },
        "id": "6BjueF4nSyMA",
        "outputId": "81c6935a-ebdc-47f3-b3c1-34df5a3dd07e"
      },
      "execution_count": null,
      "outputs": [
        {
          "output_type": "stream",
          "name": "stdout",
          "text": [
            "Estimated Pi value: 3.124\n"
          ]
        }
      ]
    },
    {
      "cell_type": "markdown",
      "source": [
        "## TimeIt\n"
      ],
      "metadata": {
        "id": "tqYXZ-yUr_2W"
      }
    },
    {
      "cell_type": "code",
      "source": [
        "if __name__ == \"__main__\":\n",
        "    serial_time = timeit.timeit('pi_serial(samples)', globals=globals(), number=1)\n",
        "    async_time = timeit.timeit('pi_apply_async(samples)', globals=globals(), number=1)\n",
        "    async_chunked_time = timeit.timeit('pi_apply_async_chunked(samples, n_tasks=10)', globals=globals(), number=1)\n",
        "\n",
        "    # Imprimir los tiempos\n",
        "    print(\"Time for pi_serial:\", serial_time)\n",
        "    print(\"Time for pi_apply_async:\", async_time)\n",
        "    print(\"Time for pi_apply_async_chunked:\", async_chunked_time)\n"
      ],
      "metadata": {
        "colab": {
          "base_uri": "https://localhost:8080/"
        },
        "id": "M4YyPnFEsDlD",
        "outputId": "5dd5d185-cc27-4707-90ba-b94a5229072a"
      },
      "execution_count": null,
      "outputs": [
        {
          "output_type": "stream",
          "name": "stdout",
          "text": [
            "Time for pi_serial: 0.023396636999677867\n",
            "Time for pi_apply_async: 0.9386706559998856\n",
            "Time for pi_apply_async_chunked: 0.058707331000732665\n"
          ]
        }
      ]
    },
    {
      "cell_type": "markdown",
      "source": [
        "## cProfile\n"
      ],
      "metadata": {
        "id": "7RoHEFrqrfXX"
      }
    },
    {
      "cell_type": "code",
      "source": [
        "cProfile.run('pi_serial(samples)')\n"
      ],
      "metadata": {
        "colab": {
          "base_uri": "https://localhost:8080/"
        },
        "id": "1UCtkE7vrhxW",
        "outputId": "14d92bc7-4a9e-4aae-8973-35de5936366d"
      },
      "execution_count": null,
      "outputs": [
        {
          "output_type": "stream",
          "name": "stdout",
          "text": [
            "         40004 function calls in 0.021 seconds\n",
            "\n",
            "   Ordered by: standard name\n",
            "\n",
            "   ncalls  tottime  percall  cumtime  percall filename:lineno(function)\n",
            "        1    0.010    0.010    0.021    0.021 <ipython-input-80-69690d1fd708>:1(pi_serial)\n",
            "        1    0.000    0.000    0.021    0.021 <string>:1(<module>)\n",
            "    20000    0.009    0.000    0.011    0.000 random.py:546(uniform)\n",
            "        1    0.000    0.000    0.021    0.021 {built-in method builtins.exec}\n",
            "        1    0.000    0.000    0.000    0.000 {method 'disable' of '_lsprof.Profiler' objects}\n",
            "    20000    0.002    0.000    0.002    0.000 {method 'random' of '_random.Random' objects}\n",
            "\n",
            "\n"
          ]
        }
      ]
    },
    {
      "cell_type": "code",
      "source": [
        "cProfile.run('pi_apply_async(samples)')"
      ],
      "metadata": {
        "colab": {
          "base_uri": "https://localhost:8080/"
        },
        "id": "tb86xj_SrjuX",
        "outputId": "0820ba1c-8831-4f0f-e09e-7a3ff0d418c5"
      },
      "execution_count": null,
      "outputs": [
        {
          "output_type": "stream",
          "name": "stdout",
          "text": [
            "         183592 function calls in 1.061 seconds\n",
            "\n",
            "   Ordered by: standard name\n",
            "\n",
            "   ncalls  tottime  percall  cumtime  percall filename:lineno(function)\n",
            "       12    0.000    0.000    0.000    0.000 <frozen importlib._bootstrap>:404(parent)\n",
            "        1    0.000    0.000    1.049    1.049 <ipython-input-83-a1731f57016e>:1(pi_apply_async)\n",
            "        1    0.009    0.009    0.744    0.744 <ipython-input-83-a1731f57016e>:3(<listcomp>)\n",
            "    10001    0.067    0.000    0.258    0.000 <ipython-input-83-a1731f57016e>:4(<genexpr>)\n",
            "        1    0.012    0.012    1.061    1.061 <string>:1(<module>)\n",
            "        2    0.000    0.000    0.000    0.000 __init__.py:219(_acquireLock)\n",
            "        2    0.000    0.000    0.000    0.000 __init__.py:228(_releaseLock)\n",
            "        4    0.000    0.000    0.000    0.000 __init__.py:259(__iter__)\n",
            "        2    0.000    0.000    0.000    0.000 _weakrefset.py:39(_remove)\n",
            "        5    0.000    0.000    0.000    0.000 _weakrefset.py:86(add)\n",
            "        6    0.000    0.000    0.000    0.000 connection.py:117(__init__)\n",
            "        6    0.000    0.000    0.000    0.000 connection.py:130(__del__)\n",
            "        3    0.000    0.000    0.000    0.000 connection.py:134(_check_closed)\n",
            "        3    0.000    0.000    0.000    0.000 connection.py:142(_check_writable)\n",
            "        3    0.000    0.000    0.000    0.000 connection.py:181(send_bytes)\n",
            "        6    0.000    0.000    0.000    0.000 connection.py:360(_close)\n",
            "        3    0.000    0.000    0.000    0.000 connection.py:365(_send)\n",
            "        3    0.000    0.000    0.000    0.000 connection.py:390(_send_bytes)\n",
            "        3    0.000    0.000    0.001    0.000 connection.py:516(Pipe)\n",
            "        3    0.000    0.000    0.002    0.001 context.py:110(SimpleQueue)\n",
            "        1    0.000    0.000    0.032    0.032 context.py:115(Pool)\n",
            "        9    0.000    0.000    0.000    0.000 context.py:187(get_context)\n",
            "        6    0.000    0.000    0.000    0.000 context.py:197(get_start_method)\n",
            "        1    0.000    0.000    0.000    0.000 context.py:237(get_context)\n",
            "        2    0.000    0.000    0.026    0.013 context.py:278(_Popen)\n",
            "        6    0.000    0.000    0.001    0.000 context.py:65(Lock)\n",
            "        8    0.000    0.000    0.004    0.001 iostream.py:195(schedule)\n",
            "        4    0.000    0.000    0.005    0.001 iostream.py:335(flush)\n",
            "        8    0.000    0.000    0.000    0.000 iostream.py:91(_event_pipe)\n",
            "        1    0.000    0.000    0.000    0.000 pool.py:157(__init__)\n",
            "        2    0.000    0.000    0.000    0.000 pool.py:179(Process)\n",
            "        1    0.000    0.000    0.032    0.032 pool.py:183(__init__)\n",
            "        1    0.000    0.000    0.000    0.000 pool.py:266(__del__)\n",
            "        1    0.000    0.000    0.000    0.000 pool.py:279(_get_sentinels)\n",
            "        1    0.000    0.000    0.027    0.027 pool.py:305(_repopulate_pool)\n",
            "        1    0.000    0.000    0.027    0.027 pool.py:314(_repopulate_pool_static)\n",
            "        1    0.000    0.000    0.002    0.002 pool.py:345(_setup_queues)\n",
            "    10001    0.003    0.000    0.003    0.000 pool.py:351(_check_running)\n",
            "    10000    0.109    0.000    0.735    0.000 pool.py:453(apply_async)\n",
            "        1    0.000    0.000    0.012    0.012 pool.py:654(terminate)\n",
            "        1    0.000    0.000    0.005    0.005 pool.py:671(_help_stuff_finish)\n",
            "        1    0.000    0.000    0.012    0.012 pool.py:680(_terminate_pool)\n",
            "        1    0.000    0.000    0.000    0.000 pool.py:734(__enter__)\n",
            "        1    0.000    0.000    0.012    0.012 pool.py:738(__exit__)\n",
            "    10000    0.231    0.000    0.619    0.000 pool.py:747(__init__)\n",
            "    10000    0.006    0.000    0.011    0.000 pool.py:756(ready)\n",
            "    10000    0.009    0.000    0.168    0.000 pool.py:764(wait)\n",
            "    10000    0.011    0.000    0.190    0.000 pool.py:767(get)\n",
            "        2    0.000    0.000    0.026    0.013 popen_fork.py:15(__init__)\n",
            "        7    0.000    0.000    0.007    0.001 popen_fork.py:24(poll)\n",
            "        2    0.000    0.000    0.007    0.003 popen_fork.py:36(wait)\n",
            "        2    0.000    0.000    0.000    0.000 popen_fork.py:46(_send_signal)\n",
            "        2    0.000    0.000    0.000    0.000 popen_fork.py:56(terminate)\n",
            "        2    0.000    0.000    0.021    0.011 popen_fork.py:62(_launch)\n",
            "        2    0.000    0.000    0.026    0.013 process.py:110(start)\n",
            "        2    0.000    0.000    0.000    0.000 process.py:128(terminate)\n",
            "        2    0.000    0.000    0.007    0.003 process.py:142(join)\n",
            "        2    0.000    0.000    0.000    0.000 process.py:153(is_alive)\n",
            "        4    0.000    0.000    0.000    0.000 process.py:189(name)\n",
            "        2    0.000    0.000    0.000    0.000 process.py:193(name)\n",
            "        2    0.000    0.000    0.000    0.000 process.py:205(daemon)\n",
            "        2    0.000    0.000    0.000    0.000 process.py:224(exitcode)\n",
            "        2    0.000    0.000    0.000    0.000 process.py:234(ident)\n",
            "        6    0.000    0.000    0.000    0.000 process.py:37(current_process)\n",
            "        2    0.000    0.000    0.000    0.000 process.py:61(_cleanup)\n",
            "        2    0.000    0.000    0.000    0.000 process.py:80(__init__)\n",
            "        4    0.000    0.000    0.000    0.000 process.py:94(<genexpr>)\n",
            "       12    0.000    0.000    0.000    0.000 process.py:99(_check_closed)\n",
            "        3    0.000    0.000    0.002    0.001 queues.py:339(__init__)\n",
            "        3    0.000    0.000    0.000    0.000 queues.py:369(put)\n",
            "        6    0.000    0.000    0.000    0.000 random.py:506(choices)\n",
            "        6    0.000    0.000    0.000    0.000 random.py:519(<listcomp>)\n",
            "        3    0.000    0.000    0.000    0.000 reduction.py:38(__init__)\n",
            "        3    0.000    0.000    0.000    0.000 reduction.py:48(dumps)\n",
            "        8    0.004    0.000    0.004    0.000 socket.py:543(send)\n",
            "        6    0.000    0.000    0.000    0.000 synchronize.py:114(_make_name)\n",
            "        6    0.000    0.000    0.001    0.000 synchronize.py:161(__init__)\n",
            "        6    0.001    0.000    0.001    0.000 synchronize.py:50(__init__)\n",
            "        6    0.000    0.000    0.000    0.000 synchronize.py:90(_make_methods)\n",
            "        3    0.000    0.000    0.000    0.000 synchronize.py:94(__enter__)\n",
            "        3    0.000    0.000    0.000    0.000 synchronize.py:97(__exit__)\n",
            "        6    0.000    0.000    0.000    0.000 tempfile.py:281(rng)\n",
            "        6    0.000    0.000    0.000    0.000 tempfile.py:292(__next__)\n",
            "        3    0.000    0.000    0.000    0.000 threading.py:1028(_stop)\n",
            "        3    0.000    0.000    0.000    0.000 threading.py:1064(join)\n",
            "       17    0.000    0.000    0.000    0.000 threading.py:1102(_wait_for_tstate_lock)\n",
            "       14    0.000    0.000    0.000    0.000 threading.py:1169(is_alive)\n",
            "        6    0.000    0.000    0.000    0.000 threading.py:1183(daemon)\n",
            "        3    0.000    0.000    0.000    0.000 threading.py:1198(daemon)\n",
            "        3    0.000    0.000    0.000    0.000 threading.py:1301(_make_invoke_excepthook)\n",
            "        9    0.000    0.000    0.000    0.000 threading.py:1430(current_thread)\n",
            "    10007    0.257    0.000    0.257    0.000 threading.py:236(__init__)\n",
            "    10007    0.057    0.000    0.062    0.000 threading.py:264(__enter__)\n",
            "    10007    0.005    0.000    0.007    0.000 threading.py:267(__exit__)\n",
            "      253    0.000    0.000    0.000    0.000 threading.py:273(_release_save)\n",
            "      253    0.000    0.000    0.000    0.000 threading.py:276(_acquire_restore)\n",
            "      253    0.000    0.000    0.000    0.000 threading.py:279(_is_owned)\n",
            "      253    0.001    0.000    0.065    0.000 threading.py:288(wait)\n",
            "    10007    0.119    0.000    0.385    0.000 threading.py:545(__init__)\n",
            "    10023    0.006    0.000    0.006    0.000 threading.py:553(is_set)\n",
            "    10007    0.027    0.000    0.161    0.000 threading.py:589(wait)\n",
            "        3    0.000    0.000    0.000    0.000 threading.py:782(_newname)\n",
            "        3    0.000    0.000    0.000    0.000 threading.py:827(__init__)\n",
            "        3    0.000    0.000    0.002    0.001 threading.py:916(start)\n",
            "        6    0.000    0.000    0.000    0.000 util.py:171(register_after_fork)\n",
            "        3    0.000    0.000    0.000    0.000 util.py:186(__init__)\n",
            "        3    0.000    0.000    0.012    0.004 util.py:205(__call__)\n",
            "        2    0.000    0.000    0.005    0.002 util.py:433(_flush_std_streams)\n",
            "        3    0.000    0.000    0.000    0.000 util.py:44(sub_debug)\n",
            "        2    0.000    0.000    0.000    0.000 util.py:461(close_fds)\n",
            "       19    0.000    0.000    0.000    0.000 util.py:48(debug)\n",
            "        6    0.000    0.000    0.000    0.000 weakref.py:106(remove)\n",
            "        6    0.000    0.000    0.000    0.000 weakref.py:165(__setitem__)\n",
            "        6    0.000    0.000    0.000    0.000 weakref.py:348(__new__)\n",
            "        6    0.000    0.000    0.000    0.000 weakref.py:353(__init__)\n",
            "        6    0.000    0.000    0.000    0.000 {built-in method __new__ of type object at 0x5c9c8ceb89a0}\n",
            "        4    0.000    0.000    0.000    0.000 {built-in method _imp.lock_held}\n",
            "        3    0.000    0.000    0.000    0.000 {built-in method _struct.pack}\n",
            "    10260    0.009    0.000    0.009    0.000 {built-in method _thread.allocate_lock}\n",
            "        9    0.000    0.000    0.000    0.000 {built-in method _thread.get_ident}\n",
            "        3    0.000    0.000    0.000    0.000 {built-in method _thread.start_new_thread}\n",
            "        6    0.000    0.000    0.000    0.000 {built-in method _weakref._remove_dead_weakref}\n",
            "        1    0.000    0.000    1.061    1.061 {built-in method builtins.exec}\n",
            "        6    0.000    0.000    0.000    0.000 {built-in method builtins.getattr}\n",
            "        2    0.000    0.000    0.000    0.000 {built-in method builtins.hasattr}\n",
            "        6    0.000    0.000    0.000    0.000 {built-in method builtins.id}\n",
            "        3    0.000    0.000    0.000    0.000 {built-in method builtins.isinstance}\n",
            "       18    0.000    0.000    0.000    0.000 {built-in method builtins.len}\n",
            "    10017    0.003    0.000    0.003    0.000 {built-in method builtins.next}\n",
            "        1    0.003    0.003    0.261    0.261 {built-in method builtins.sum}\n",
            "       48    0.000    0.000    0.000    0.000 {built-in method math.floor}\n",
            "       14    0.003    0.000    0.003    0.000 {built-in method posix.close}\n",
            "        1    0.000    0.000    0.000    0.000 {built-in method posix.cpu_count}\n",
            "        2    0.017    0.008    0.017    0.009 {built-in method posix.fork}\n",
            "       20    0.000    0.000    0.000    0.000 {built-in method posix.getpid}\n",
            "        2    0.000    0.000    0.000    0.000 {built-in method posix.kill}\n",
            "        7    0.001    0.000    0.001    0.000 {built-in method posix.pipe}\n",
            "        7    0.007    0.001    0.007    0.001 {built-in method posix.waitpid}\n",
            "        2    0.000    0.000    0.000    0.000 {built-in method posix.waitstatus_to_exitcode}\n",
            "        3    0.000    0.000    0.000    0.000 {built-in method posix.write}\n",
            "        3    0.000    0.000    0.000    0.000 {method '__enter__' of '_multiprocessing.SemLock' objects}\n",
            "    10007    0.004    0.000    0.004    0.000 {method '__enter__' of '_thread.lock' objects}\n",
            "        3    0.000    0.000    0.000    0.000 {method '__exit__' of '_multiprocessing.SemLock' objects}\n",
            "        3    0.000    0.000    0.000    0.000 {method '__exit__' of '_thread.RLock' objects}\n",
            "    10007    0.002    0.000    0.002    0.000 {method '__exit__' of '_thread.lock' objects}\n",
            "        1    0.005    0.005    0.005    0.005 {method 'acquire' of '_multiprocessing.SemLock' objects}\n",
            "        2    0.000    0.000    0.000    0.000 {method 'acquire' of '_thread.RLock' objects}\n",
            "     1027    0.063    0.000    0.063    0.000 {method 'acquire' of '_thread.lock' objects}\n",
            "        7    0.000    0.000    0.000    0.000 {method 'add' of 'set' objects}\n",
            "      261    0.000    0.000    0.000    0.000 {method 'append' of 'collections.deque' objects}\n",
            "        2    0.000    0.000    0.000    0.000 {method 'append' of 'list' objects}\n",
            "        5    0.000    0.000    0.000    0.000 {method 'copy' of 'dict' objects}\n",
            "        1    0.000    0.000    0.000    0.000 {method 'disable' of '_lsprof.Profiler' objects}\n",
            "        4    0.000    0.000    0.000    0.000 {method 'discard' of 'set' objects}\n",
            "        3    0.000    0.000    0.000    0.000 {method 'dump' of '_pickle.Pickler' objects}\n",
            "        2    0.000    0.000    0.000    0.000 {method 'get' of 'dict' objects}\n",
            "        3    0.000    0.000    0.000    0.000 {method 'getbuffer' of '_io.BytesIO' objects}\n",
            "        8    0.000    0.000    0.000    0.000 {method 'join' of 'str' objects}\n",
            "        3    0.000    0.000    0.000    0.000 {method 'locked' of '_thread.lock' objects}\n",
            "    10000    0.004    0.000    0.004    0.000 {method 'put' of '_queue.SimpleQueue' objects}\n",
            "       48    0.000    0.000    0.000    0.000 {method 'random' of '_random.Random' objects}\n",
            "        2    0.000    0.000    0.000    0.000 {method 'release' of '_thread.RLock' objects}\n",
            "      256    0.000    0.000    0.000    0.000 {method 'release' of '_thread.lock' objects}\n",
            "        2    0.000    0.000    0.000    0.000 {method 'replace' of 'str' objects}\n",
            "       12    0.000    0.000    0.000    0.000 {method 'rpartition' of 'str' objects}\n",
            "        3    0.000    0.000    0.000    0.000 {method 'update' of 'dict' objects}\n",
            "\n",
            "\n"
          ]
        }
      ]
    },
    {
      "cell_type": "code",
      "source": [
        "cProfile.run('pi_apply_async_chunked(samples, n_tasks=10)')"
      ],
      "metadata": {
        "colab": {
          "base_uri": "https://localhost:8080/"
        },
        "id": "Wx1pcUNvrtO8",
        "outputId": "f12dfbd6-140d-45a8-879e-98563250f0f6"
      },
      "execution_count": null,
      "outputs": [
        {
          "output_type": "stream",
          "name": "stdout",
          "text": [
            "         1125 function calls in 0.077 seconds\n",
            "\n",
            "   Ordered by: standard name\n",
            "\n",
            "   ncalls  tottime  percall  cumtime  percall filename:lineno(function)\n",
            "       12    0.000    0.000    0.000    0.000 <frozen importlib._bootstrap>:404(parent)\n",
            "        1    0.000    0.000    0.076    0.076 <ipython-input-88-b02e03db2a9b>:1(pi_apply_async_chunked)\n",
            "        1    0.000    0.000    0.000    0.000 <ipython-input-88-b02e03db2a9b>:4(<listcomp>)\n",
            "       11    0.000    0.000    0.032    0.003 <ipython-input-88-b02e03db2a9b>:5(<genexpr>)\n",
            "        1    0.000    0.000    0.077    0.077 <string>:1(<module>)\n",
            "        2    0.000    0.000    0.000    0.000 __init__.py:219(_acquireLock)\n",
            "        2    0.000    0.000    0.000    0.000 __init__.py:228(_releaseLock)\n",
            "        5    0.000    0.000    0.000    0.000 _weakrefset.py:39(_remove)\n",
            "        5    0.000    0.000    0.000    0.000 _weakrefset.py:86(add)\n",
            "        6    0.000    0.000    0.000    0.000 connection.py:117(__init__)\n",
            "        6    0.000    0.000    0.000    0.000 connection.py:130(__del__)\n",
            "        3    0.000    0.000    0.000    0.000 connection.py:134(_check_closed)\n",
            "        3    0.000    0.000    0.000    0.000 connection.py:142(_check_writable)\n",
            "        3    0.000    0.000    0.000    0.000 connection.py:181(send_bytes)\n",
            "        6    0.000    0.000    0.000    0.000 connection.py:360(_close)\n",
            "        3    0.000    0.000    0.000    0.000 connection.py:365(_send)\n",
            "        3    0.000    0.000    0.000    0.000 connection.py:390(_send_bytes)\n",
            "        3    0.000    0.000    0.000    0.000 connection.py:516(Pipe)\n",
            "        3    0.000    0.000    0.001    0.000 context.py:110(SimpleQueue)\n",
            "        1    0.000    0.000    0.034    0.034 context.py:115(Pool)\n",
            "        9    0.000    0.000    0.000    0.000 context.py:187(get_context)\n",
            "        6    0.000    0.000    0.000    0.000 context.py:197(get_start_method)\n",
            "        1    0.000    0.000    0.000    0.000 context.py:237(get_context)\n",
            "        2    0.000    0.000    0.022    0.011 context.py:278(_Popen)\n",
            "        6    0.000    0.000    0.001    0.000 context.py:65(Lock)\n",
            "        8    0.000    0.000    0.001    0.000 iostream.py:195(schedule)\n",
            "        4    0.000    0.000    0.009    0.002 iostream.py:335(flush)\n",
            "        8    0.000    0.000    0.000    0.000 iostream.py:91(_event_pipe)\n",
            "        1    0.000    0.000    0.000    0.000 pool.py:157(__init__)\n",
            "        2    0.000    0.000    0.000    0.000 pool.py:179(Process)\n",
            "        1    0.000    0.000    0.034    0.034 pool.py:183(__init__)\n",
            "        1    0.000    0.000    0.000    0.000 pool.py:266(__del__)\n",
            "        1    0.000    0.000    0.000    0.000 pool.py:279(_get_sentinels)\n",
            "        1    0.000    0.000    0.023    0.023 pool.py:305(_repopulate_pool)\n",
            "        1    0.000    0.000    0.023    0.023 pool.py:314(_repopulate_pool_static)\n",
            "        1    0.000    0.000    0.001    0.001 pool.py:345(_setup_queues)\n",
            "       11    0.000    0.000    0.000    0.000 pool.py:351(_check_running)\n",
            "       10    0.000    0.000    0.000    0.000 pool.py:453(apply_async)\n",
            "        1    0.000    0.000    0.010    0.010 pool.py:654(terminate)\n",
            "        1    0.000    0.000    0.000    0.000 pool.py:671(_help_stuff_finish)\n",
            "        1    0.000    0.000    0.010    0.010 pool.py:680(_terminate_pool)\n",
            "        1    0.000    0.000    0.000    0.000 pool.py:734(__enter__)\n",
            "        1    0.000    0.000    0.010    0.010 pool.py:738(__exit__)\n",
            "       10    0.000    0.000    0.000    0.000 pool.py:747(__init__)\n",
            "       10    0.000    0.000    0.000    0.000 pool.py:756(ready)\n",
            "       10    0.000    0.000    0.032    0.003 pool.py:764(wait)\n",
            "       10    0.000    0.000    0.032    0.003 pool.py:767(get)\n",
            "        2    0.000    0.000    0.022    0.011 popen_fork.py:15(__init__)\n",
            "        6    0.000    0.000    0.009    0.001 popen_fork.py:24(poll)\n",
            "        1    0.000    0.000    0.009    0.009 popen_fork.py:36(wait)\n",
            "        2    0.000    0.000    0.000    0.000 popen_fork.py:46(_send_signal)\n",
            "        2    0.000    0.000    0.000    0.000 popen_fork.py:56(terminate)\n",
            "        2    0.000    0.000    0.013    0.007 popen_fork.py:62(_launch)\n",
            "        2    0.000    0.000    0.023    0.011 process.py:110(start)\n",
            "        2    0.000    0.000    0.000    0.000 process.py:128(terminate)\n",
            "        1    0.000    0.000    0.009    0.009 process.py:142(join)\n",
            "        2    0.000    0.000    0.000    0.000 process.py:153(is_alive)\n",
            "        4    0.000    0.000    0.000    0.000 process.py:189(name)\n",
            "        2    0.000    0.000    0.000    0.000 process.py:193(name)\n",
            "        2    0.000    0.000    0.000    0.000 process.py:205(daemon)\n",
            "        2    0.000    0.000    0.000    0.000 process.py:224(exitcode)\n",
            "        1    0.000    0.000    0.000    0.000 process.py:234(ident)\n",
            "        6    0.000    0.000    0.000    0.000 process.py:37(current_process)\n",
            "        2    0.000    0.000    0.000    0.000 process.py:61(_cleanup)\n",
            "        2    0.000    0.000    0.000    0.000 process.py:80(__init__)\n",
            "        4    0.000    0.000    0.000    0.000 process.py:94(<genexpr>)\n",
            "       10    0.000    0.000    0.000    0.000 process.py:99(_check_closed)\n",
            "        3    0.000    0.000    0.001    0.000 queues.py:339(__init__)\n",
            "        3    0.000    0.000    0.000    0.000 queues.py:369(put)\n",
            "        6    0.000    0.000    0.000    0.000 random.py:506(choices)\n",
            "        6    0.000    0.000    0.000    0.000 random.py:519(<listcomp>)\n",
            "        3    0.000    0.000    0.000    0.000 reduction.py:38(__init__)\n",
            "        3    0.000    0.000    0.000    0.000 reduction.py:48(dumps)\n",
            "        8    0.001    0.000    0.001    0.000 socket.py:543(send)\n",
            "        6    0.000    0.000    0.000    0.000 synchronize.py:114(_make_name)\n",
            "        6    0.000    0.000    0.001    0.000 synchronize.py:161(__init__)\n",
            "        6    0.000    0.000    0.001    0.000 synchronize.py:50(__init__)\n",
            "        6    0.000    0.000    0.000    0.000 synchronize.py:90(_make_methods)\n",
            "        3    0.000    0.000    0.000    0.000 synchronize.py:94(__enter__)\n",
            "        3    0.000    0.000    0.000    0.000 synchronize.py:97(__exit__)\n",
            "        6    0.000    0.000    0.000    0.000 tempfile.py:281(rng)\n",
            "        6    0.000    0.000    0.000    0.000 tempfile.py:292(__next__)\n",
            "        3    0.000    0.000    0.000    0.000 threading.py:1028(_stop)\n",
            "        3    0.000    0.000    0.000    0.000 threading.py:1064(join)\n",
            "       17    0.000    0.000    0.000    0.000 threading.py:1102(_wait_for_tstate_lock)\n",
            "       14    0.000    0.000    0.000    0.000 threading.py:1169(is_alive)\n",
            "        6    0.000    0.000    0.000    0.000 threading.py:1183(daemon)\n",
            "        3    0.000    0.000    0.000    0.000 threading.py:1198(daemon)\n",
            "        3    0.000    0.000    0.000    0.000 threading.py:1301(_make_invoke_excepthook)\n",
            "        9    0.000    0.000    0.000    0.000 threading.py:1430(current_thread)\n",
            "       17    0.000    0.000    0.000    0.000 threading.py:236(__init__)\n",
            "       17    0.000    0.000    0.000    0.000 threading.py:264(__enter__)\n",
            "       17    0.000    0.000    0.000    0.000 threading.py:267(__exit__)\n",
            "       13    0.000    0.000    0.000    0.000 threading.py:273(_release_save)\n",
            "       13    0.000    0.000    0.000    0.000 threading.py:276(_acquire_restore)\n",
            "       13    0.000    0.000    0.000    0.000 threading.py:279(_is_owned)\n",
            "       13    0.000    0.000    0.047    0.004 threading.py:288(wait)\n",
            "       17    0.000    0.000    0.001    0.000 threading.py:545(__init__)\n",
            "       33    0.000    0.000    0.000    0.000 threading.py:553(is_set)\n",
            "       17    0.000    0.000    0.047    0.003 threading.py:589(wait)\n",
            "        3    0.000    0.000    0.000    0.000 threading.py:782(_newname)\n",
            "        3    0.000    0.000    0.001    0.000 threading.py:827(__init__)\n",
            "        3    0.000    0.000    0.009    0.003 threading.py:916(start)\n",
            "        6    0.000    0.000    0.000    0.000 util.py:171(register_after_fork)\n",
            "        3    0.000    0.000    0.000    0.000 util.py:186(__init__)\n",
            "        3    0.000    0.000    0.010    0.003 util.py:205(__call__)\n",
            "        2    0.000    0.000    0.009    0.004 util.py:433(_flush_std_streams)\n",
            "        3    0.000    0.000    0.000    0.000 util.py:44(sub_debug)\n",
            "        2    0.000    0.000    0.000    0.000 util.py:461(close_fds)\n",
            "       18    0.000    0.000    0.000    0.000 util.py:48(debug)\n",
            "        6    0.000    0.000    0.000    0.000 weakref.py:106(remove)\n",
            "        6    0.000    0.000    0.000    0.000 weakref.py:165(__setitem__)\n",
            "        6    0.000    0.000    0.000    0.000 weakref.py:348(__new__)\n",
            "        6    0.000    0.000    0.000    0.000 weakref.py:353(__init__)\n",
            "        6    0.000    0.000    0.000    0.000 {built-in method __new__ of type object at 0x5c9c8ceb89a0}\n",
            "        4    0.000    0.000    0.000    0.000 {built-in method _imp.lock_held}\n",
            "        3    0.000    0.000    0.000    0.000 {built-in method _struct.pack}\n",
            "       30    0.000    0.000    0.000    0.000 {built-in method _thread.allocate_lock}\n",
            "        9    0.000    0.000    0.000    0.000 {built-in method _thread.get_ident}\n",
            "        3    0.000    0.000    0.000    0.000 {built-in method _thread.start_new_thread}\n",
            "        6    0.000    0.000    0.000    0.000 {built-in method _weakref._remove_dead_weakref}\n",
            "        1    0.000    0.000    0.077    0.077 {built-in method builtins.exec}\n",
            "        6    0.000    0.000    0.000    0.000 {built-in method builtins.getattr}\n",
            "        2    0.000    0.000    0.000    0.000 {built-in method builtins.hasattr}\n",
            "        6    0.000    0.000    0.000    0.000 {built-in method builtins.id}\n",
            "        3    0.000    0.000    0.000    0.000 {built-in method builtins.isinstance}\n",
            "       18    0.000    0.000    0.000    0.000 {built-in method builtins.len}\n",
            "       27    0.000    0.000    0.000    0.000 {built-in method builtins.next}\n",
            "        1    0.000    0.000    0.032    0.032 {built-in method builtins.sum}\n",
            "       48    0.000    0.000    0.000    0.000 {built-in method math.floor}\n",
            "       14    0.000    0.000    0.000    0.000 {built-in method posix.close}\n",
            "        1    0.000    0.000    0.000    0.000 {built-in method posix.cpu_count}\n",
            "        2    0.012    0.006    0.012    0.006 {built-in method posix.fork}\n",
            "       19    0.000    0.000    0.000    0.000 {built-in method posix.getpid}\n",
            "        2    0.000    0.000    0.000    0.000 {built-in method posix.kill}\n",
            "        7    0.000    0.000    0.000    0.000 {built-in method posix.pipe}\n",
            "        6    0.009    0.001    0.009    0.001 {built-in method posix.waitpid}\n",
            "        2    0.000    0.000    0.000    0.000 {built-in method posix.waitstatus_to_exitcode}\n",
            "        3    0.000    0.000    0.000    0.000 {built-in method posix.write}\n",
            "        3    0.000    0.000    0.000    0.000 {method '__enter__' of '_multiprocessing.SemLock' objects}\n",
            "       17    0.000    0.000    0.000    0.000 {method '__enter__' of '_thread.lock' objects}\n",
            "        3    0.000    0.000    0.000    0.000 {method '__exit__' of '_multiprocessing.SemLock' objects}\n",
            "        3    0.000    0.000    0.000    0.000 {method '__exit__' of '_thread.RLock' objects}\n",
            "       17    0.000    0.000    0.000    0.000 {method '__exit__' of '_thread.lock' objects}\n",
            "        1    0.000    0.000    0.000    0.000 {method 'acquire' of '_multiprocessing.SemLock' objects}\n",
            "        2    0.000    0.000    0.000    0.000 {method 'acquire' of '_thread.RLock' objects}\n",
            "       67    0.047    0.001    0.047    0.001 {method 'acquire' of '_thread.lock' objects}\n",
            "        7    0.000    0.000    0.000    0.000 {method 'add' of 'set' objects}\n",
            "       21    0.000    0.000    0.000    0.000 {method 'append' of 'collections.deque' objects}\n",
            "        2    0.000    0.000    0.000    0.000 {method 'append' of 'list' objects}\n",
            "        5    0.000    0.000    0.000    0.000 {method 'copy' of 'dict' objects}\n",
            "        1    0.000    0.000    0.000    0.000 {method 'disable' of '_lsprof.Profiler' objects}\n",
            "        7    0.000    0.000    0.000    0.000 {method 'discard' of 'set' objects}\n",
            "        3    0.000    0.000    0.000    0.000 {method 'dump' of '_pickle.Pickler' objects}\n",
            "        2    0.000    0.000    0.000    0.000 {method 'get' of 'dict' objects}\n",
            "        3    0.000    0.000    0.000    0.000 {method 'getbuffer' of '_io.BytesIO' objects}\n",
            "        8    0.000    0.000    0.000    0.000 {method 'join' of 'str' objects}\n",
            "        3    0.000    0.000    0.000    0.000 {method 'locked' of '_thread.lock' objects}\n",
            "       10    0.000    0.000    0.000    0.000 {method 'put' of '_queue.SimpleQueue' objects}\n",
            "       48    0.000    0.000    0.000    0.000 {method 'random' of '_random.Random' objects}\n",
            "        2    0.000    0.000    0.000    0.000 {method 'release' of '_thread.RLock' objects}\n",
            "       16    0.000    0.000    0.000    0.000 {method 'release' of '_thread.lock' objects}\n",
            "        2    0.000    0.000    0.000    0.000 {method 'replace' of 'str' objects}\n",
            "       12    0.000    0.000    0.000    0.000 {method 'rpartition' of 'str' objects}\n",
            "        3    0.000    0.000    0.000    0.000 {method 'update' of 'dict' objects}\n",
            "\n",
            "\n"
          ]
        }
      ]
    },
    {
      "cell_type": "markdown",
      "source": [
        "## Grphics"
      ],
      "metadata": {
        "id": "MW4aiLKVa14Z"
      }
    },
    {
      "cell_type": "code",
      "source": [
        "import numpy as np\n",
        "if __name__ == \"__main__\":\n",
        "    # Run and mesure the time of each function, we already did this in the TimeIt section :)\n",
        "    serial_time = timeit.timeit(lambda: pi_serial(samples), number=1)\n",
        "    async_time = timeit.timeit(lambda: pi_apply_async(samples), number=1)\n",
        "    async_chunked_time = timeit.timeit(lambda: pi_apply_async_chunked(samples, n_tasks=10), number=1)"
      ],
      "metadata": {
        "id": "KqdLK90An_RS"
      },
      "execution_count": null,
      "outputs": []
    },
    {
      "cell_type": "code",
      "source": [
        "times = [serial_time, async_time, async_chunked_time]\n",
        "labels = ['pi_serial', 'pi_apply_async', 'pi_apply_async_chunked']\n",
        "\n",
        "num_bars = len(times)\n",
        "colors = ['#FFB6C1', '#87CEEB', '#98FB98']\n",
        "\n",
        "plt.bar(labels, times, color=colors, alpha=0.75, edgecolor='black', linewidth=1.5, capsize=7)\n",
        "\n",
        "plt.ylabel('Tiempo (segundos)', fontsize=12)\n",
        "plt.title('Tiempo de ejecución de las funciones', fontsize=14)\n",
        "\n",
        "plt.show()"
      ],
      "metadata": {
        "colab": {
          "base_uri": "https://localhost:8080/",
          "height": 454
        },
        "id": "sSIJz3aMtepe",
        "outputId": "a0639f11-bbf2-44f0-bde3-f12f3ee92ff8"
      },
      "execution_count": null,
      "outputs": [
        {
          "output_type": "display_data",
          "data": {
            "text/plain": [
              "<Figure size 640x480 with 1 Axes>"
            ],
            "image/png": "[encoded data removed]"
          },
          "metadata": {}
        }
      ]
    },
    {
      "cell_type": "code",
      "source": [
        "# MonteCarlo Aproximation\n",
        "\n",
        "import matplotlib.pyplot as plt\n",
        "import random\n",
        "\n",
        "# Function to estimate Pi using Monte Carlo method and visualize the result\n",
        "def visualize_monte_carlo_pi_estimation(samples):\n",
        "    hits_x = []\n",
        "    hits_y = []\n",
        "    misses_x = []\n",
        "    misses_y = []\n",
        "\n",
        "    # Perform Monte Carlo simulation\n",
        "    hits = 0\n",
        "    for _ in range(samples):\n",
        "        x, y = random.uniform(-1, 1), random.uniform(-1, 1)\n",
        "        if x**2 + y**2 <= 1:\n",
        "            hits += 1\n",
        "            hits_x.append(x)\n",
        "            hits_y.append(y)\n",
        "        else:\n",
        "            misses_x.append(x)\n",
        "            misses_y.append(y)\n",
        "\n",
        "    # Estimate Pi\n",
        "    pi_estimate = (4 * hits) / samples\n",
        "\n",
        "    # Plotting\n",
        "    fig, ax = plt.subplots()\n",
        "    circle = plt.Circle((0, 0), 1, edgecolor='gray', facecolor='none')\n",
        "    ax.add_artist(circle)\n",
        "    ax.scatter(hits_x, hits_y, color='#87CEEB', s=1, label='Hits')\n",
        "    ax.scatter(misses_x, misses_y, color='#FFB6C1', s=1, label='Misses')\n",
        "    ax.set_aspect('equal', 'box')\n",
        "    ax.set_xlim(-1, 1)\n",
        "    ax.set_ylim(-1, 1)\n",
        "    ax.legend()\n",
        "    plt.title(f\"Monte Carlo Pi Estimation (samples={samples}): π ≈ {pi_estimate}\")\n",
        "    plt.xlabel('x')\n",
        "    plt.ylabel('y')\n",
        "    plt.grid(True)\n",
        "    plt.show()\n",
        "\n",
        "    return pi_estimate\n",
        "\n",
        "# We will visualize the Monte Carlo method with 1000 samples for clarity.\n",
        "visualize_monte_carlo_pi_estimation(1000)"
      ],
      "metadata": {
        "colab": {
          "base_uri": "https://localhost:8080/",
          "height": 489
        },
        "id": "RIvPXSV3a3JV",
        "outputId": "fc91cdfb-dc4d-4296-cd6f-f2a28011bf56"
      },
      "execution_count": null,
      "outputs": [
        {
          "output_type": "display_data",
          "data": {
            "text/plain": [
              "<Figure size 640x480 with 1 Axes>"
            ],
            "image/png": "[encoded data removed]"
          },
          "metadata": {}
        },
        {
          "output_type": "execute_result",
          "data": {
            "text/plain": [
              "3.104"
            ]
          },
          "metadata": {},
          "execution_count": 97
        }
      ]
    },
    {
      "cell_type": "markdown",
      "source": [
        "## Our conlusion"
      ],
      "metadata": {
        "id": "I0teFqwVwv8-"
      }
    },
    {
      "cell_type": "markdown",
      "source": [
        "We note that pi_serial executes the computation sequentially, without taking advantage of multiprocessing. Although it is simple and easy to understand, its execution time is considerably longer compared to the other functions (since it processes sequentially, which limits the ability to efficiently use system resources), on the other hand pi_apply_async uses multiprocessing by using Pool.apply_async() to generate samples concurrently. However, the execution time is still longer than ideal, suggesting that the multiprocessing approach used here may not be the most efficient. The creation and management of multiple processes can introduce significant overhead, which can affect performance, and last but not least, the pi_apply_async_chunked, which improves the multiprocessing approach by dividing the work into larger blocks and assigning them to individual processes. By reducing the amount of inter-process communication and distributing work more efficiently, it achieves faster execution time compared to the other functions. Although there is still some overhead associated with process creation and management, it is minimized compared to pi_apply_async.\n",
        "\n",
        "In a short way, the pi_apply_async_chunked function achieves the best performance in terms of runtime, as it optimizes the use of multiprocessing by splitting the job into larger blocks."
      ],
      "metadata": {
        "id": "aJrWUWpkwy-S"
      }
    }
  ]
}